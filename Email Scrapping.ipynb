{
 "cells": [
  {
   "cell_type": "code",
   "execution_count": 1,
   "metadata": {},
   "outputs": [],
   "source": [
    "import requests\n",
    "from bs4 import BeautifulSoup\n",
    "import re\n",
    "import robotexclusionrulesparser\n",
    "\n",
    "def is_allowed_to_scrape(url, user_agent):\n",
    "    robots_url = f\"{url.scheme}://{url.netloc}/robots.txt\"\n",
    "    \n",
    "    rp = robotexclusionrulesparser.RobotFileParserLookalike()\n",
    "    rp.fetch(robots_url)\n",
    "    \n",
    "    return rp.can_fetch(user_agent, url.geturl())\n",
    "\n",
    "# Replace 'your_url' and 'user_agent_string' with actual values\n",
    "your_url = 'https://bluewave.energy'\n",
    "user_agent_string = 'WebScraper-v1.0 (https://github.com/Kuangheng-Li/WebScraper-v1.0)'\n",
    "\n",
    "# Parse the URL\n",
    "from urllib.parse import urlparse\n",
    "url = urlparse(your_url)\n",
    "\n",
    "# Check if allowed to scrape\n",
    "if is_allowed_to_scrape(url, user_agent_string):\n",
    "    headers = {'User-Agent': user_agent_string}\n",
    "    response = requests.get(your_url, headers=headers)\n",
    "    \n",
    "    # Check if the request was successful (Status Code: 200)\n",
    "    if response.status_code == 200:\n",
    "        soup = BeautifulSoup(response.text, 'html.parser')\n",
    "        \n",
    "        # Regular expression for matching email addresses\n",
    "        email_regex = re.compile(r'\\b[A-Za-z0-9._%+-]+@[A-Za-z0-9.-]+\\.[A-Z|a-z]{2,}\\b')\n",
    "        \n",
    "        # Find all strings in the page that match the regular expression\n",
    "        emails = re.findall(email_regex, soup.get_text())\n",
    "        \n",
    "        # Remove duplicate email addresses\n",
    "        emails = list(set(emails))\n",
    "        \n",
    "        print(emails)\n",
    "else:\n",
    "    print(\"Scraping is not allowed by robots.txt\")"
   ]
  }
 ],
 "metadata": {
  "kernelspec": {
   "display_name": "Python 3",
   "language": "python",
   "name": "python3"
  },
  "language_info": {
   "codemirror_mode": {
    "name": "ipython",
    "version": 3
   },
   "file_extension": ".py",
   "mimetype": "text/x-python",
   "name": "python",
   "nbconvert_exporter": "python",
   "pygments_lexer": "ipython3",
   "version": "3.11.2"
  }
 },
 "nbformat": 4,
 "nbformat_minor": 2
}
